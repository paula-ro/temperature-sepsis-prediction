{
 "cells": [
  {
   "cell_type": "markdown",
   "id": "b67b2183",
   "metadata": {},
   "source": [
    "## Predicting late-onset sepsis  in preterm infants using temperature data\n",
    "\n",
    "By Paula Romero Jiménez"
   ]
  },
  {
   "cell_type": "markdown",
   "id": "80fd7cc3",
   "metadata": {},
   "source": [
    "Outline of the project:\n",
    "\n",
    "- Preprocess and merge the 3 datasets used: patient characteristics, temperature data and blood culture data.\n",
    "- Feature engineering for the model: differences and variation in temperature over time.\n",
    "- LOS labeling.\n",
    "- Calculate baseline characteristics.\n",
    "- Matching of patients.\n",
    "- Training of the model: Logistic Regression (binary classification of LOS or no LOS).\n",
    "- Model evaluation."
   ]
  },
  {
   "cell_type": "markdown",
   "id": "20f5f5b1",
   "metadata": {},
   "source": [
    "First import the required packages:"
   ]
  },
  {
   "cell_type": "code",
   "execution_count": null,
   "id": "b146495f",
   "metadata": {},
   "outputs": [],
   "source": [
    "import pandas as pd\n",
    "import matplotlib.pyplot as plt\n",
    "import numpy as np\n",
    "import seaborn as sns\n",
    "\n",
    "from sklearn.model_selection import train_test_split\n",
    "from sklearn.linear_model import LogisticRegression\n",
    "from sklearn.metrics import accuracy_score, roc_auc_score, roc_curve, precision_score, recall_score\n",
    "from sklearn.model_selection import StratifiedKFold, cross_val_predict, GridSearchCV\n",
    "from sklearn.calibration import calibration_curve\n",
    "import statsmodels.api as sm\n",
    "from sklearn.preprocessing import StandardScaler"
   ]
  },
  {
   "cell_type": "markdown",
   "id": "adc25dba",
   "metadata": {},
   "source": [
    "### 1. Preprocess and merge the 3 datasets\n",
    "\n",
    "The main and most important one is the one with the temperature data because it will be the main  feature in  the model, I won't use patients who don't have temeprature data"
   ]
  },
  {
   "cell_type": "code",
   "execution_count": null,
   "id": "7a72d661",
   "metadata": {},
   "outputs": [],
   "source": [
    "data_raw = pd.read_csv(\"ads2024/Signals_5488_ads2024.csv\")"
   ]
  },
  {
   "cell_type": "markdown",
   "id": "8e91c7d1",
   "metadata": {},
   "source": [
    "We filter out temepratures below 35 degrees (hypothermic) and above 39.5 degrees (hyperthermic). We also filter out negative times and times surpassing the 30 days."
   ]
  },
  {
   "cell_type": "code",
   "execution_count": null,
   "id": "49431f05",
   "metadata": {
    "scrolled": true
   },
   "outputs": [],
   "source": [
    "data =  data_raw[(data_raw['Value'] > 35) & (data_raw['Value'] < 39.5)]\n",
    "data = data[(data['Time'] > 0) & (data['Time'] <= (30*24*60))]\n",
    "del data['Unnamed: 0']\n",
    "del data['ParameterID']\n",
    "del data['parameterName']\n",
    "del data['UnitName']\n",
    "del data['UnitMultiplier']\n",
    "print('Number of patients:', data['pt_id'].nunique())"
   ]
  },
  {
   "cell_type": "code",
   "execution_count": null,
   "id": "5454eabf",
   "metadata": {},
   "outputs": [],
   "source": [
    "data"
   ]
  },
  {
   "cell_type": "markdown",
   "id": "f7559d90",
   "metadata": {},
   "source": [
    "We filter out patients with  age at admission greater than  48 hours, the first 'Time' measurement is considered to be the age of admission (because it's minutes since birth)"
   ]
  },
  {
   "cell_type": "code",
   "execution_count": null,
   "id": "79970ed0",
   "metadata": {},
   "outputs": [],
   "source": [
    "data['Time'] = pd.to_datetime(data['Time'], unit = 'm')\n",
    "data.sort_values(by = ['pt_id','Time'], inplace= True)\n",
    "age_admission = data.groupby('pt_id')['Time'].first().reset_index()\n",
    "age_admission.columns = ['pt_id','age_at_admission']\n",
    "age_admission['age_at_admission'].dt.day.unique()\n",
    "\n",
    "elegible_patients = age_admission[age_admission['age_at_admission'].dt.day <= 2]['pt_id'].unique()\n",
    "data = data[data['pt_id'].isin(elegible_patients)]\n",
    "print('Number of patients:', data['pt_id'].nunique())"
   ]
  },
  {
   "cell_type": "markdown",
   "id": "1396dd7d",
   "metadata": {},
   "source": [
    "We won't use the temperature data in minutes, if not by hours, so we perform the aggregation first."
   ]
  },
  {
   "cell_type": "code",
   "execution_count": null,
   "id": "b236d4aa",
   "metadata": {},
   "outputs": [],
   "source": [
    "data.set_index('Time', inplace=True)\n",
    "\n",
    "agg_data = data.groupby('pt_id').resample('1H').agg({\n",
    "    'Value':['mean', 'std'],\n",
    "}).reset_index()\n",
    "\n",
    "agg_data.columns = ['pt_id', 'Time', 'temp_mean', 'temp_std']"
   ]
  },
  {
   "cell_type": "code",
   "execution_count": null,
   "id": "9913110e",
   "metadata": {},
   "outputs": [],
   "source": [
    "# There are hours where we don't have temeprature values, so we delete those missing values that we have created with the aggregation function\n",
    "agg_data = agg_data.dropna(subset = ['temp_mean'])\n",
    "agg_data"
   ]
  },
  {
   "cell_type": "markdown",
   "id": "7046d0b3",
   "metadata": {},
   "source": [
    "We will now merge this temperature data with the blood culture data. We use the patient ID and the time to merge it.\n",
    "\n",
    "In the blood culture dataset we filter out negative times: there are quite a lot of them, which indicates that they were incorrectly annotated. Nonetheless, by looking at the number of patients with positive blood culture, we don't lose too much information."
   ]
  },
  {
   "cell_type": "code",
   "execution_count": null,
   "id": "6174116d",
   "metadata": {},
   "outputs": [],
   "source": [
    "bc = pd.read_csv(\"ads2024/bloodcultures_ads2024.csv\")"
   ]
  },
  {
   "cell_type": "code",
   "execution_count": null,
   "id": "8d63bf94",
   "metadata": {},
   "outputs": [],
   "source": [
    "print('Initial number of patients with blood culture:', bc['pt_id'].nunique())\n",
    "del bc['Unnamed: 0']\n",
    "del bc['filter_specimen_datetime']\n",
    "bc1 =  bc[(bc['Time'] < 0)&(bc['bloodculture_result']==1)]['pt_id'].nunique()\n",
    "bc = bc[(bc['Time'] > 0)]\n",
    "print('Number of patients with blood culture after filtering negative time values:', bc['pt_id'].nunique())\n",
    "print('Patients with negative time values and positive blood culture:', bc1)"
   ]
  },
  {
   "cell_type": "code",
   "execution_count": null,
   "id": "522ead68",
   "metadata": {
    "scrolled": false
   },
   "outputs": [],
   "source": [
    "bc"
   ]
  },
  {
   "cell_type": "code",
   "execution_count": null,
   "id": "3e589931",
   "metadata": {},
   "outputs": [],
   "source": [
    "bc['Time'] = pd.to_datetime(bc['Time'],unit='m').dt.floor('H')"
   ]
  },
  {
   "cell_type": "markdown",
   "id": "83a33b0d",
   "metadata": {},
   "source": [
    "The join operation will be left because if for that patient we don't have a blood culture, we assume it was because that patient didn't have sepsis syntoms and the clinician didn't ask for the test. We want to still mantain the temperature data of these patients which will be treated as controls."
   ]
  },
  {
   "cell_type": "code",
   "execution_count": null,
   "id": "cab4b950",
   "metadata": {
    "scrolled": false
   },
   "outputs": [],
   "source": [
    "data2 = pd.merge(agg_data, bc, on = ['pt_id','Time'], how = 'left')\n",
    "data2"
   ]
  },
  {
   "cell_type": "code",
   "execution_count": null,
   "id": "c6cc5a10",
   "metadata": {},
   "outputs": [],
   "source": [
    "print('Number of patients present in temperature dataset but not in the blood culture dataset:',len(set(agg_data['pt_id'].unique()) - set(bc['pt_id'].unique())))"
   ]
  },
  {
   "cell_type": "code",
   "execution_count": null,
   "id": "d196c640",
   "metadata": {},
   "outputs": [],
   "source": [
    "npat = data2[data2['bloodculture_result'].notnull()]['pt_id'].nunique()\n",
    "print('Patients with blood culture result in the merged dataframe:', npat)"
   ]
  },
  {
   "cell_type": "markdown",
   "id": "ac216619",
   "metadata": {},
   "source": [
    "We lose patients with blood culture result in the merging due to different patient IDs and different times.\n",
    "\n",
    "Now we'll merge with patient characteristics to obtain gestational age and gender.\n"
   ]
  },
  {
   "cell_type": "code",
   "execution_count": null,
   "id": "12f7dc3e",
   "metadata": {},
   "outputs": [],
   "source": [
    "patient = pd.read_csv(\"ads2024/patient_characteristics_ads2024.csv\")"
   ]
  },
  {
   "cell_type": "code",
   "execution_count": null,
   "id": "91e47884",
   "metadata": {},
   "outputs": [],
   "source": [
    "patient['GestationalAgeDays'] = patient['GestationalAgeDays'].fillna(0)\n",
    "del patient['Unnamed: 0']\n",
    "del patient['birth_datetime']\n",
    "del patient['Death']\n",
    "del patient['DeathDate']\n",
    "patient['gestational_age'] = patient['GestationalAgeWeeks']*7 + patient['GestationalAgeDays']\n",
    "print('Number of patients:', patient['pt_id'].nunique())"
   ]
  },
  {
   "cell_type": "code",
   "execution_count": null,
   "id": "2e7771a7",
   "metadata": {},
   "outputs": [],
   "source": [
    "patient"
   ]
  },
  {
   "cell_type": "code",
   "execution_count": null,
   "id": "a4a8cd29",
   "metadata": {
    "scrolled": false
   },
   "outputs": [],
   "source": [
    "data3 = pd.merge(data2, patient, on = 'pt_id', how = 'inner')\n",
    "data3"
   ]
  },
  {
   "cell_type": "code",
   "execution_count": null,
   "id": "983fba25",
   "metadata": {},
   "outputs": [],
   "source": [
    "data3['pt_id'].nunique()"
   ]
  },
  {
   "cell_type": "markdown",
   "id": "22737461",
   "metadata": {},
   "source": [
    "The issue now is that we have more than one positive blood culture result per patient and we want to keep the first one, so  we will filter the rest."
   ]
  },
  {
   "cell_type": "code",
   "execution_count": null,
   "id": "8b6e9f12",
   "metadata": {},
   "outputs": [],
   "source": [
    "data3['is_positive'] = data3['bloodculture_result'] == 1\n",
    "first_positive_pp = data3.groupby('pt_id')['is_positive'].apply(lambda x: x.cumsum() == 1)\n",
    "final_data = data3[~data3['is_positive']|first_positive_pp]\n",
    "final_data = final_data.drop('is_positive', axis=1)"
   ]
  },
  {
   "cell_type": "code",
   "execution_count": null,
   "id": "748b1908",
   "metadata": {},
   "outputs": [],
   "source": [
    "set1 = set(final_data[(final_data['minutes_since_birth'] >= 4320) & (final_data['bloodculture_result'] == 1)]['pt_id'].unique())\n",
    "print('LOS patients (positive blood culture after 72h):',len(set1))"
   ]
  },
  {
   "cell_type": "code",
   "execution_count": null,
   "id": "18015033",
   "metadata": {},
   "outputs": [],
   "source": [
    "set2 = set(final_data[(final_data['minutes_since_birth'] < 4320) & (final_data['bloodculture_result'] == 1)]['pt_id'].unique())\n",
    "print('Patients with positive blood culture before 72h:',len(set2))"
   ]
  },
  {
   "cell_type": "code",
   "execution_count": null,
   "id": "828bc140",
   "metadata": {},
   "outputs": [],
   "source": [
    "final_data"
   ]
  },
  {
   "cell_type": "markdown",
   "id": "783a7d45",
   "metadata": {},
   "source": [
    "### 2. Feature engineering\n",
    "\n",
    "We calculate the rolling mean and standard deviation for a window of 12 hours. For the initial 12 hours we use the mean of the previous available hours."
   ]
  },
  {
   "cell_type": "code",
   "execution_count": null,
   "id": "29dac6bd",
   "metadata": {},
   "outputs": [],
   "source": [
    "def rolling_stats(df):\n",
    "    #expanding mean and std for initial 12 hours\n",
    "    df['expanding_mean'] = df['temp_mean'].expanding(min_periods = 1).mean().shift(1)\n",
    "    df['expanding_std'] = df['temp_std'].expanding(min_periods = 1).mean().shift(1)\n",
    "    \n",
    "    #rolling mean and std for subsequent hours\n",
    "    df['rolling_mean'] = df['temp_mean'].rolling(window = 12, min_periods = 1).mean().shift(1)\n",
    "    df['rolling_std'] = df['temp_std'].rolling(window = 12, min_periods = 1).mean().shift(1)\n",
    "    \n",
    "    #combine both calculations\n",
    "    df['rolling_mean'] = df['rolling_mean'].combine_first(df['expanding_mean'])\n",
    "    df['rolling_std'] = df['rolling_std'].combine_first(df['expanding_std'])\n",
    "    \n",
    "    #drop intermediate columns\n",
    "    df.drop(columns = ['expanding_mean','expanding_std'], inplace = True)\n",
    "    \n",
    "    return df"
   ]
  },
  {
   "cell_type": "code",
   "execution_count": null,
   "id": "93840239",
   "metadata": {},
   "outputs": [],
   "source": [
    "final_data = final_data.groupby('pt_id').apply(rolling_stats).reset_index(drop = True)"
   ]
  },
  {
   "cell_type": "markdown",
   "id": "921018c9",
   "metadata": {},
   "source": [
    "Function to calculate temperature differences with the computed means over time. "
   ]
  },
  {
   "cell_type": "code",
   "execution_count": null,
   "id": "c18149ef",
   "metadata": {},
   "outputs": [],
   "source": [
    "def temp_differences(df):\n",
    "    df['temp_mean_diff'] = (df['temp_mean'] - df['rolling_mean']).abs()\n",
    "    df['temp_std_diff'] = (df['temp_std'] - df['rolling_std']).abs()\n",
    "    return df"
   ]
  },
  {
   "cell_type": "code",
   "execution_count": null,
   "id": "b35075be",
   "metadata": {
    "scrolled": true
   },
   "outputs": [],
   "source": [
    "final_data = final_data.groupby('pt_id').apply(temp_differences).reset_index(drop = True)"
   ]
  },
  {
   "cell_type": "markdown",
   "id": "99ab1f88",
   "metadata": {},
   "source": [
    "Fill missing values with 0: first values for each patients are going to be missing."
   ]
  },
  {
   "cell_type": "code",
   "execution_count": null,
   "id": "1922d872",
   "metadata": {},
   "outputs": [],
   "source": [
    "final_data['temp_mean_diff'] = final_data['temp_mean_diff'].fillna(0)\n",
    "final_data['temp_std_diff'] = final_data['temp_std_diff'].fillna(0)\n",
    "final_data['bloodculture_result'] = final_data['bloodculture_result'].fillna(0)"
   ]
  },
  {
   "cell_type": "code",
   "execution_count": null,
   "id": "803ba72c",
   "metadata": {
    "scrolled": false
   },
   "outputs": [],
   "source": [
    "final_data"
   ]
  },
  {
   "cell_type": "markdown",
   "id": "594ff775",
   "metadata": {},
   "source": [
    "### 3. LOS Labeling\n",
    "\n",
    "Los patients: patients with positive blood culture after 72h of birth.\n",
    "\n",
    "Control patients: patients with positive blood culture before 72h, patients with negative blood cultures and patients without blood cultures.\n",
    "\n",
    "Also for modeling purposes, we will take temperature measures before 6h of sepsis onset (t=0, blood culture drawn) and 2h after, and label them as LOS"
   ]
  },
  {
   "cell_type": "code",
   "execution_count": null,
   "id": "8c7115c4",
   "metadata": {},
   "outputs": [],
   "source": [
    "first_positive = final_data[final_data['bloodculture_result'] == 1].sort_values(by = 'Time').groupby('pt_id')['Time'].first().reset_index()\n",
    "first_positive.columns = ['pt_id', 'first_positive_time']\n",
    "final_data = pd.merge(final_data, first_positive, on = ['pt_id'], how='left')\n",
    "final_data['first_positive_time'] = pd.to_datetime(final_data['first_positive_time'], unit = 'm')"
   ]
  },
  {
   "cell_type": "code",
   "execution_count": null,
   "id": "6f87ca77",
   "metadata": {},
   "outputs": [],
   "source": [
    "def label_los(df):\n",
    "    control_mask = (df['first_positive_time'].isna()) | (df['first_positive_time'].dt.day < 3)\n",
    "    label_mask = ((df['first_positive_time'].dt.day > 3) & \n",
    "                  (df['Time'] >= (df['first_positive_time'] - pd.Timedelta(hours=6))) & \n",
    "                  (df['Time'] <= (df['first_positive_time'] + pd.Timedelta(hours=2))))\n",
    "\n",
    "    df['los_label'] = 0\n",
    "    df.loc[control_mask, 'los_label'] = 0\n",
    "    df.loc[label_mask, 'los_label'] = 1\n",
    "\n",
    "    return df['los_label']\n",
    "    \n",
    "    \n",
    "final_data['los_label'] = label_los(final_data)"
   ]
  },
  {
   "cell_type": "code",
   "execution_count": null,
   "id": "a273ed4d",
   "metadata": {},
   "outputs": [],
   "source": [
    "final_data"
   ]
  },
  {
   "cell_type": "code",
   "execution_count": null,
   "id": "10eb9a48",
   "metadata": {},
   "outputs": [],
   "source": [
    "patient_counts = final_data.groupby('pt_id')['los_label'].max().value_counts()\n",
    "\n",
    "plt.bar(['No LOS', 'LOS'], patient_counts, color = ['blue', 'orange'])\n",
    "plt.ylabel('Number of patients')\n",
    "plt.title('Distribution of patients with and without LOS')\n",
    "plt.show()\n",
    "print(patient_counts)"
   ]
  },
  {
   "cell_type": "code",
   "execution_count": null,
   "id": "cf3cfa66",
   "metadata": {},
   "outputs": [],
   "source": [
    "grouped = final_data.groupby(['pt_id','los_label']).first().reset_index()\n",
    "mean = grouped.groupby('los_label')['gestational_age'].mean()\n",
    "mean.columns = ['los_label','mean']\n",
    "mean"
   ]
  },
  {
   "cell_type": "markdown",
   "id": "7ca763c4",
   "metadata": {},
   "source": [
    "### 4. Calculate baseline characteristics"
   ]
  },
  {
   "cell_type": "code",
   "execution_count": null,
   "id": "4c3356dd",
   "metadata": {},
   "outputs": [],
   "source": [
    "hosp_duration = final_data.groupby('pt_id')['Time'].apply(lambda x: x.max()-x.min())\n",
    "los_patients = final_data[final_data['los_label'] == 1]['pt_id'].unique()\n",
    "los_data = final_data[final_data['pt_id'].isin(los_patients)]\n",
    "control_data = final_data[~final_data['pt_id'].isin(los_data['pt_id'])]"
   ]
  },
  {
   "cell_type": "code",
   "execution_count": null,
   "id": "ebf04fe5",
   "metadata": {},
   "outputs": [],
   "source": [
    "los_id = (los_data['pt_id'].unique()).tolist()\n",
    "los_ga = [group.iloc[0] for pt_id, group in los_data.groupby('pt_id')['gestational_age']]\n",
    "los_temp_mean = [group.mean() for pt_id, group in los_data.groupby('pt_id')['temp_mean']]\n",
    "los_temp_std = [group.mean() for pt_id, group in los_data.groupby('pt_id')['temp_std']]\n",
    "los_temp_mean_diff = [group.mean() for pt_id, group in los_data.groupby('pt_id')['temp_mean_diff']]\n",
    "los_temp_std_diff = [group.mean() for pt_id, group in los_data.groupby('pt_id')['temp_std_diff']]\n",
    "los_hosp = list(los_data.groupby('pt_id')['Time'].apply(lambda x: x.max()-x.min()))\n",
    "\n",
    "los_df = pd.DataFrame({\n",
    "    'pt_id': los_id,\n",
    "    'gestational_age': los_ga,\n",
    "    'temp_mean': los_temp_mean,\n",
    "    'temp_std': los_temp_std,\n",
    "    'temp_mean_diff': los_temp_mean_diff,\n",
    "    'temp_std_diff': los_temp_std_diff,\n",
    "    'hospitalization': los_hosp,\n",
    "})"
   ]
  },
  {
   "cell_type": "code",
   "execution_count": null,
   "id": "baee93e1",
   "metadata": {},
   "outputs": [],
   "source": [
    "los_df"
   ]
  },
  {
   "cell_type": "code",
   "execution_count": null,
   "id": "c27d1e70",
   "metadata": {},
   "outputs": [],
   "source": [
    "non_los_id = (control_data['pt_id'].unique()).tolist()\n",
    "non_los_ga = [group.iloc[0] for pt_id, group in control_data.groupby('pt_id')['gestational_age']]\n",
    "non_los_temp_mean = [group.mean() for pt_id, group in control_data.groupby('pt_id')['temp_mean']]\n",
    "non_los_temp_std = [group.mean() for pt_id, group in control_data.groupby('pt_id')['temp_std']]\n",
    "non_los_temp_mean_diff = [group.mean() for pt_id, group in control_data.groupby('pt_id')['temp_mean_diff']]\n",
    "non_los_temp_std_diff = [group.mean() for pt_id, group in control_data.groupby('pt_id')['temp_std_diff']]\n",
    "non_los_hosp = list(control_data.groupby('pt_id')['Time'].apply(lambda x: x.max()-x.min()))\n",
    "\n",
    "control_df = pd.DataFrame({\n",
    "    'pt_id': non_los_id,\n",
    "    'gestational_age': non_los_ga,\n",
    "    'temp_mean': non_los_temp_mean,\n",
    "    'temp_std': non_los_temp_std,\n",
    "    'temp_mean_diff': non_los_temp_mean_diff,\n",
    "    'temp_std_diff': non_los_temp_std_diff,\n",
    "    'hospitalization': non_los_hosp,\n",
    "})"
   ]
  },
  {
   "cell_type": "code",
   "execution_count": null,
   "id": "940485d5",
   "metadata": {
    "scrolled": false
   },
   "outputs": [],
   "source": [
    "control_df"
   ]
  },
  {
   "cell_type": "code",
   "execution_count": null,
   "id": "80a3c377",
   "metadata": {},
   "outputs": [],
   "source": [
    "from scipy.stats import shapiro, ttest_ind, mannwhitneyu, chi2_contingency\n",
    "\n",
    "cont_vars = ['gestational_age', 'temp_mean', 'temp_std', 'temp_mean_diff', 'temp_std_diff', 'hospitalization']\n",
    "categ_vars = ['Gender']\n",
    "\n",
    "def test_normality(data):\n",
    "    stat,p = shapiro(data)\n",
    "    return p > 0.05 # True if normal distribution\n",
    "\n",
    "for var in cont_vars:\n",
    "    is_normal_los = test_normality(los_df[var])\n",
    "    is_normal_control = test_normality(control_df[var])\n",
    "    print(f'{var}: LOS group normality = {is_normal_los}, control group normality = {is_normal_control}')"
   ]
  },
  {
   "cell_type": "code",
   "execution_count": null,
   "id": "8eaba46f",
   "metadata": {},
   "outputs": [],
   "source": [
    "for var in cont_vars:\n",
    "    is_normal = test_normality(los_df[var])\n",
    "    if is_normal:\n",
    "        mean = los_df[var].mean()\n",
    "        std = los_df[var].std()\n",
    "        print(var, mean, std)\n",
    "    else:\n",
    "        median = los_df[var].median()\n",
    "        q1 = los_df[var].quantile(0.25)\n",
    "        q3 = los_df[var].quantile(0.75)\n",
    "        print(var, median, q1,q3)"
   ]
  },
  {
   "cell_type": "code",
   "execution_count": null,
   "id": "30e337c6",
   "metadata": {},
   "outputs": [],
   "source": [
    "for var in cont_vars:\n",
    "    is_normal = test_normality(control_df[var])\n",
    "    if is_normal:\n",
    "        mean = control_df[var].mean()\n",
    "        std = control_df[var].std()\n",
    "        print(var, mean, std)\n",
    "    else:\n",
    "        median = control_df[var].median()\n",
    "        q1 = control_df[var].quantile(0.25)\n",
    "        q3 = control_df[var].quantile(0.75)\n",
    "        print(var, median, q1,q3)"
   ]
  },
  {
   "cell_type": "code",
   "execution_count": null,
   "id": "107b0a06",
   "metadata": {},
   "outputs": [],
   "source": [
    "for var in cont_vars:\n",
    "    los_data_var = los_df[var]\n",
    "    control_data_var = control_df[var]\n",
    "    los_data_var = los_df[var]\n",
    "    is_normal_los = test_normality(los_data_var)\n",
    "    is_normal_control = test_normality(control_data_var)\n",
    "    \n",
    "    if is_normal_los and is_normal_control:\n",
    "        t, p = ttest_ind(los_data_var, control_data_var)\n",
    "        print(var, 'Students t-test, p-value:', p)\n",
    "    else:\n",
    "        u,p = mannwhitneyu(los_data_var, control_data_var)\n",
    "        print(var, 'Mann-Whitney U test:', p)"
   ]
  },
  {
   "cell_type": "code",
   "execution_count": null,
   "id": "1ce9b96e",
   "metadata": {},
   "outputs": [],
   "source": [
    "gender_los = list(los_data.groupby('pt_id')['Gender'].unique().value_counts())\n",
    "gender_control = list(control_data.groupby('pt_id')['Gender'].unique().value_counts())"
   ]
  },
  {
   "cell_type": "code",
   "execution_count": null,
   "id": "b2a0ad7e",
   "metadata": {},
   "outputs": [],
   "source": [
    "contingency = pd.DataFrame({\n",
    "    'LOS': gender_los,\n",
    "    'CONTROL': gender_control\n",
    "})\n",
    "chi2, p, dof, expected = chi2_contingency(contingency)\n",
    "print('Chi-square test for gender', p)"
   ]
  },
  {
   "cell_type": "code",
   "execution_count": null,
   "id": "64a3190a",
   "metadata": {},
   "outputs": [],
   "source": [
    "los_df['LOS_label'] = 1\n",
    "control_df['LOS_label'] = 0\n",
    "data_pp = pd.concat([los_df, control_df], ignore_index=True)"
   ]
  },
  {
   "cell_type": "code",
   "execution_count": null,
   "id": "55b95a15",
   "metadata": {},
   "outputs": [],
   "source": [
    "data_pp"
   ]
  },
  {
   "cell_type": "markdown",
   "id": "8cc932dc",
   "metadata": {},
   "source": [
    "### 5. Matching of patients\n",
    "\n",
    "We will match LOS patients to controls based on gestational age, gender and time."
   ]
  },
  {
   "cell_type": "code",
   "execution_count": null,
   "id": "fc1758e0",
   "metadata": {},
   "outputs": [],
   "source": [
    "final_data"
   ]
  },
  {
   "cell_type": "code",
   "execution_count": null,
   "id": "12b861a0",
   "metadata": {},
   "outputs": [],
   "source": [
    "los = final_data[(final_data['los_label'] == 1)&(final_data['bloodculture_result'] == 1)].groupby('pt_id').first().reset_index()\n",
    "non_los = final_data[~final_data['pt_id'].isin(los['pt_id'])]\n",
    "los = los[['pt_id','Time','bloodculture_result','gestational_age','Gender','los_label','first_positive_time']]\n",
    "non_los = non_los[['pt_id','Time','bloodculture_result','gestational_age','Gender','los_label']]"
   ]
  },
  {
   "cell_type": "code",
   "execution_count": null,
   "id": "a17aa87a",
   "metadata": {},
   "outputs": [],
   "source": [
    "los"
   ]
  },
  {
   "cell_type": "code",
   "execution_count": null,
   "id": "afc545fc",
   "metadata": {},
   "outputs": [],
   "source": [
    "matched = pd.merge(los, non_los, on = ['Time','Gender'], suffixes = ('_los', '_control'))\n",
    "matched = matched[\n",
    "    (matched['gestational_age_control'] >= (matched['gestational_age_los']-2)) &\n",
    "    (matched['gestational_age_control'] <= (matched['gestational_age_los']+2))    \n",
    "]"
   ]
  },
  {
   "cell_type": "code",
   "execution_count": null,
   "id": "425b61ca",
   "metadata": {
    "scrolled": true
   },
   "outputs": [],
   "source": [
    "matched"
   ]
  },
  {
   "cell_type": "code",
   "execution_count": null,
   "id": "23933509",
   "metadata": {},
   "outputs": [],
   "source": [
    "used_controls = set()\n",
    "final_pairs = pd.DataFrame()\n",
    "\n",
    "for pt_id_los in los['pt_id'].unique():\n",
    "    \n",
    "    group = matched[matched['pt_id_los'] == pt_id_los]\n",
    "    \n",
    "    selected_matches = group[~group['pt_id_control'].isin(used_controls)].head(4)\n",
    "    \n",
    "    final_pairs = pd.concat([final_pairs, selected_matches], ignore_index = True)\n",
    "    \n",
    "    used_controls.update(selected_matches['pt_id_control'])\n",
    "\n",
    "print(final_pairs['pt_id_los'].nunique(),'LOS patients matched to', final_pairs['pt_id_control'].nunique(),'control patients')"
   ]
  },
  {
   "cell_type": "markdown",
   "id": "677b777b",
   "metadata": {},
   "source": [
    "An interesting thing would be to select the time for control patients, to address the class imbalance at the time of modelling. Therefore, we extract the time LOS patients are labelled as LOS (-6 to +2) and match it for the already matched patients."
   ]
  },
  {
   "cell_type": "code",
   "execution_count": null,
   "id": "5cc0b06c",
   "metadata": {},
   "outputs": [],
   "source": [
    "def extract_time(df, matched_pairs):\n",
    "    relevant_rows = pd.DataFrame()\n",
    "    \n",
    "    for _,row in matched_pairs.iterrows():\n",
    "        los_time = df[(df['pt_id'] == row['pt_id_los'])&(df['los_label'] == 1)]['Time']\n",
    "        \n",
    "        control_time = df[(df['pt_id'] == row['pt_id_control'])&(df['Time'].isin(los_time))]\n",
    "        control_time['matched_pair'] = f\"{row['pt_id_los']}\"\n",
    "        \n",
    "        relevant_rows = pd.concat([relevant_rows, control_time], ignore_index=True)\n",
    "    return relevant_rows"
   ]
  },
  {
   "cell_type": "code",
   "execution_count": null,
   "id": "76bb9197",
   "metadata": {
    "scrolled": true
   },
   "outputs": [],
   "source": [
    "control_times = extract_time(final_data, final_pairs)\n",
    "los_times = final_data[final_data['pt_id'].isin(final_pairs['pt_id_los']) & (final_data['los_label']==1)]\n",
    "final_df = pd.concat([los_times, control_times])"
   ]
  },
  {
   "cell_type": "code",
   "execution_count": null,
   "id": "b7568460",
   "metadata": {},
   "outputs": [],
   "source": [
    "final_df"
   ]
  },
  {
   "cell_type": "code",
   "execution_count": null,
   "id": "3b58517d",
   "metadata": {},
   "outputs": [],
   "source": [
    "final_df['pt_id'].nunique()"
   ]
  },
  {
   "cell_type": "markdown",
   "id": "9983a6de",
   "metadata": {},
   "source": [
    "### 6. Logistic regression\n",
    "\n",
    "We train the model with the matched patients."
   ]
  },
  {
   "cell_type": "code",
   "execution_count": null,
   "id": "0f598e8b",
   "metadata": {},
   "outputs": [],
   "source": [
    "final_df['Gender'] = final_df['Gender'].map({'M':0,'F':1}) \n",
    "features = ['temp_mean_diff','temp_std_diff','gestational_age', 'Gender']\n",
    "target = 'los_label'\n",
    "\n",
    "X = final_df[features]\n",
    "y = final_df[target]\n",
    "\n",
    "train_idx, test_idx = next(StratifiedKFold(n_splits = 5, shuffle = True, random_state = 42).split(X, y, groups = final_df['pt_id']))\n",
    "\n",
    "X_train, X_test = X.iloc[train_idx], X.iloc[test_idx] \n",
    "y_train, y_test = y.iloc[train_idx], y.iloc[test_idx]\n",
    "\n",
    "\n",
    "inner_cv = StratifiedKFold(n_splits = 5, shuffle = True, random_state = 42)\n",
    "outer_cv = StratifiedKFold(n_splits = 5, shuffle = True, random_state = 42)\n",
    "\n",
    "param_grid ={'C':[0.01, 0.1, 1, 10, 100],'penalty':['l2'], 'solver':['newton-cg', 'lbfgs','liblinear'],'class_weight':['balanced', None]}\n",
    "grid_search = GridSearchCV(LogisticRegression(max_iter = 1000), param_grid, scoring='roc_auc', cv = inner_cv, n_jobs=-1)\n",
    "groups = final_df.iloc[train_idx]['pt_id']\n",
    "grid_search.fit(X_train, y_train, groups = groups)\n",
    "best_params = grid_search.best_params_\n"
   ]
  },
  {
   "cell_type": "code",
   "execution_count": null,
   "id": "c355c275",
   "metadata": {},
   "outputs": [],
   "source": [
    "best_params"
   ]
  },
  {
   "cell_type": "code",
   "execution_count": null,
   "id": "a68be3bb",
   "metadata": {},
   "outputs": [],
   "source": [
    "model = LogisticRegression(**best_params, max_iter=1000)\n",
    "model.fit(X_train, y_train)\n",
    "\n",
    "y_pred_prob = model.predict_proba(X_test)[:,1]\n",
    "auc_score = roc_auc_score(y_test, y_pred_prob)\n",
    "fraction_pos, mean_predicted_value = calibration_curve(y_test,y_pred_prob, n_bins=10)\n",
    "precision = precision_score(y_test, y_pred_prob>0.5, zero_division = 'warn')\n",
    "recall = recall_score(y_test, y_pred_prob>0.5)"
   ]
  },
  {
   "cell_type": "code",
   "execution_count": null,
   "id": "fdf2c0ba",
   "metadata": {},
   "outputs": [],
   "source": [
    "precision"
   ]
  },
  {
   "cell_type": "code",
   "execution_count": null,
   "id": "9061921b",
   "metadata": {},
   "outputs": [],
   "source": [
    "recall"
   ]
  },
  {
   "cell_type": "code",
   "execution_count": null,
   "id": "3cdb303b",
   "metadata": {},
   "outputs": [],
   "source": [
    "model.coef_[0]"
   ]
  },
  {
   "cell_type": "code",
   "execution_count": null,
   "id": "2aeee1a6",
   "metadata": {},
   "outputs": [],
   "source": [
    "X_train_sm = sm.add_constant(X_train)\n",
    "logit_model = sm.Logit(y_train, X_train_sm).fit()\n",
    "p_values = logit_model.pvalues[1:]"
   ]
  },
  {
   "cell_type": "code",
   "execution_count": null,
   "id": "9beb7b15",
   "metadata": {},
   "outputs": [],
   "source": [
    "for feature, pval in zip(features,p_values):\n",
    "    print(f'{feature}: p-value: {pval}')"
   ]
  },
  {
   "cell_type": "code",
   "execution_count": null,
   "id": "c786da3e",
   "metadata": {},
   "outputs": [],
   "source": [
    "logit_model.params"
   ]
  },
  {
   "cell_type": "code",
   "execution_count": null,
   "id": "5adffac5",
   "metadata": {},
   "outputs": [],
   "source": [
    "mean_predicted_value"
   ]
  },
  {
   "cell_type": "code",
   "execution_count": null,
   "id": "eb0d9f07",
   "metadata": {},
   "outputs": [],
   "source": [
    "print(auc_score)"
   ]
  },
  {
   "cell_type": "code",
   "execution_count": null,
   "id": "b8f3f5e5",
   "metadata": {
    "scrolled": false
   },
   "outputs": [],
   "source": [
    "plt.figure(figsize=(8,6))\n",
    "plt.plot(mean_predicted_value, fraction_pos, marker='o', label='Calibration curve' )\n",
    "plt.plot([0,1], [0,1], linestyle='--', color='gray', label='Perfectly calibrated')\n",
    "plt.xlabel('Mean Predicted Probability')\n",
    "plt.ylabel('Fraction of positives')\n",
    "plt.title('Calibration Plot')\n",
    "plt.legend()\n",
    "plt.savefig(\"calibration_plot2.png\")\n",
    "plt.show()"
   ]
  },
  {
   "cell_type": "code",
   "execution_count": null,
   "id": "a5b9b11a",
   "metadata": {},
   "outputs": [],
   "source": [
    "from sklearn.metrics import brier_score_loss\n",
    "\n",
    "brier_score_loss(y_test, y_pred_prob)"
   ]
  },
  {
   "cell_type": "markdown",
   "id": "b65a7c0d",
   "metadata": {},
   "source": [
    "Visualize class distribution"
   ]
  },
  {
   "cell_type": "code",
   "execution_count": null,
   "id": "04d7322b",
   "metadata": {},
   "outputs": [],
   "source": [
    "class_distribution = final_df['los_label'].value_counts()\n",
    "\n",
    "plt.figure(figsize = (6,4))\n",
    "class_distribution.plot(kind = 'bar', color = ['blue', 'orange'] )\n",
    "plt.title('Class distribution')\n",
    "plt.xlabel('Class')\n",
    "plt.ylabel('Frequency')\n",
    "plt.xticks(range(len(class_distribution)), ['Negative (0)', 'Positive (1)'], rotation = 0 )\n",
    "plt.savefig('class_distribution.png')\n",
    "plt.show()\n",
    "\n",
    "print(class_distribution)"
   ]
  },
  {
   "cell_type": "code",
   "execution_count": null,
   "id": "363064be",
   "metadata": {},
   "outputs": [],
   "source": [
    "fpr, tpr, thresholds = roc_curve(y_test, y_pred_prob)"
   ]
  },
  {
   "cell_type": "code",
   "execution_count": null,
   "id": "ef9d93e4",
   "metadata": {},
   "outputs": [],
   "source": [
    "plt.figure(figsize=(8,6))\n",
    "plt.plot(fpr, tpr, color='blue', lw = 2, label=f'AUC ={auc_score:.3f}' )\n",
    "plt.plot([0,1], [0,1], linestyle='--', color='gray')\n",
    "plt.xlabel('False Positive Rate')\n",
    "plt.ylabel('True Positive Rate')\n",
    "plt.title('ROC curve')\n",
    "plt.legend()\n",
    "plt.grid()\n",
    "plt.savefig(\"roc_curve.png\")\n",
    "plt.show()"
   ]
  },
  {
   "cell_type": "code",
   "execution_count": null,
   "id": "edcc5bc0",
   "metadata": {},
   "outputs": [],
   "source": []
  }
 ],
 "metadata": {
  "kernelspec": {
   "display_name": "Python 3 (ipykernel)",
   "language": "python",
   "name": "python3"
  },
  "language_info": {
   "codemirror_mode": {
    "name": "ipython",
    "version": 3
   },
   "file_extension": ".py",
   "mimetype": "text/x-python",
   "name": "python",
   "nbconvert_exporter": "python",
   "pygments_lexer": "ipython3",
   "version": "3.9.7"
  }
 },
 "nbformat": 4,
 "nbformat_minor": 5
}
